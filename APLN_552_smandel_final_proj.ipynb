{
 "cells": [
  {
   "cell_type": "code",
   "execution_count": null,
   "id": "29e85a3e",
   "metadata": {},
   "outputs": [],
   "source": [
    "# this Notebook contains all the code for my final project for APLN_552, Special Topics in Natural Lagnauge Processing\n",
    "# All of the files that are necessary to replicate this project come from the OneStopEnglish corpus,\n",
    "# which may be downloaded here: https://github.com/nishkalavallabhi/OneStopEnglishCorpus\n",
    "# Further information in the README file"
   ]
  },
  {
   "cell_type": "code",
   "execution_count": 1,
   "id": "571aeaba",
   "metadata": {},
   "outputs": [
    {
     "name": "stderr",
     "output_type": "stream",
     "text": [
      "C:\\Users\\mande\\anaconda3\\lib\\site-packages\\scipy\\__init__.py:146: UserWarning: A NumPy version >=1.16.5 and <1.23.0 is required for this version of SciPy (detected version 1.26.0\n",
      "  warnings.warn(f\"A NumPy version >={np_minversion} and <{np_maxversion}\"\n"
     ]
    }
   ],
   "source": [
    "import re\n",
    "import os\n",
    "import numpy as np\n",
    "import pandas as pd\n",
    "from matplotlib import pyplot as plt\n",
    "import nltk\n",
    "import spacy\n",
    "import textstat\n"
   ]
  },
  {
   "cell_type": "markdown",
   "id": "1108024d",
   "metadata": {},
   "source": [
    "## Define Functions"
   ]
  },
  {
   "cell_type": "code",
   "execution_count": 2,
   "id": "f829c614",
   "metadata": {},
   "outputs": [],
   "source": [
    "def strip_process_file(file):\n",
    "\n",
    "# this is a very \"intro-to-python\" function\n",
    "# takes a txt file as argument\n",
    "# returns a string\n",
    "    \n",
    "    txt_test = \"\"\n",
    "    input_fd = open(file, \"r\", errors='ignore')\n",
    "    for line_str in input_fd:\n",
    "#         line_str = line_str.decode('utf-8',errors='ignore')\n",
    "        line_str = line_str.strip() # remove the carriage return\n",
    "        txt_test += \" \"\n",
    "        txt_test += line_str\n",
    "\n",
    "    input_fd.close()\n",
    "    return txt_test\n"
   ]
  },
  {
   "cell_type": "code",
   "execution_count": 3,
   "id": "ef619c0b",
   "metadata": {},
   "outputs": [],
   "source": [
    "# Splits the text into sentences, using \n",
    "# Spacy's sentence segmentation which can \n",
    "# be found at https://spacy.io/usage/spacy-101\n",
    "\n",
    "def break_sentences(text):\n",
    "    nlp = spacy.load('en_core_web_sm')\n",
    "    doc = nlp(text)\n",
    "    return list(doc.sents)\n",
    " \n",
    "# Returns Number of Words in the text\n",
    "# I have not looked \"under the hood\" at the follwing function.\n",
    "# It seems to be overcounting the words in a text by about 10~15%\n",
    "# So I did not use it for the word count feature\n",
    "# However, I left it in for the calculations of average sentence length and FKRE\n",
    "# Since those tools rely on it\n",
    "\n",
    "def word_count(text):\n",
    "    sentences = break_sentences(text)\n",
    "    words = 0\n",
    "    for sentence in sentences:\n",
    "        words += len([token for token in sentence])\n",
    "    return words\n",
    " \n",
    "# Returns the number of sentences in the text\n",
    "def sentence_count(text):\n",
    "    sentences = break_sentences(text)\n",
    "    return len(sentences)\n",
    " \n",
    "# Returns average sentence length\n",
    "def avg_sentence_length(text):\n",
    "    words = word_count(text)\n",
    "    sentences = sentence_count(text)\n",
    "    average_sentence_length = float(words / sentences)\n",
    "    return average_sentence_length\n",
    " \n",
    "# Return max sentence length\n",
    "# I wrote this function looking for the longest sentence in a text\n",
    "# I was getting a false positive in the results when I tested it out\n",
    "# Leaving it in for now, possibly can use in later experiments\n",
    "\n",
    "def max_sentence_length(text):\n",
    "    sentences = break_sentences(text)\n",
    "    max_length = 0\n",
    "    for sentence in sentences:\n",
    "        sent_length = 0\n",
    "        sent_length += len([token for token in sentence])\n",
    "        if sent_length > max_length:\n",
    "            max_length = sent_length\n",
    "    return max_length"
   ]
  },
  {
   "cell_type": "code",
   "execution_count": 4,
   "id": "353b6be0",
   "metadata": {},
   "outputs": [],
   "source": [
    "def my_token_counter(text):\n",
    "    # this is my simple \"light switch\" function for word count\n",
    "    token_count = 0\n",
    "    switch = False # start with the switch off\n",
    "    for char in text: # Iterating through the characters in the string\n",
    "        if char.isspace() == False: # When encountering a non-white-space character\n",
    "            if switch == False:\n",
    "                token_count += 1 # add one to the word count\n",
    "            switch = True        # and turn on the switch\n",
    "        else:                    # if the character is white-space\n",
    "            switch = False       # turn the switch off\n",
    "    return token_count\n"
   ]
  },
  {
   "cell_type": "markdown",
   "id": "50210b38",
   "metadata": {},
   "source": [
    "## Testing selected functions"
   ]
  },
  {
   "cell_type": "code",
   "execution_count": 16,
   "id": "36f13be0",
   "metadata": {},
   "outputs": [
    {
     "data": {
      "text/html": [
       "<div>\n",
       "<style scoped>\n",
       "    .dataframe tbody tr th:only-of-type {\n",
       "        vertical-align: middle;\n",
       "    }\n",
       "\n",
       "    .dataframe tbody tr th {\n",
       "        vertical-align: top;\n",
       "    }\n",
       "\n",
       "    .dataframe thead th {\n",
       "        text-align: right;\n",
       "    }\n",
       "</style>\n",
       "<table border=\"1\" class=\"dataframe\">\n",
       "  <thead>\n",
       "    <tr style=\"text-align: right;\">\n",
       "      <th></th>\n",
       "      <th>Google docs</th>\n",
       "      <th>nltk</th>\n",
       "      <th>spacy</th>\n",
       "      <th>crude</th>\n",
       "      <th>nltk_accuracy</th>\n",
       "      <th>spacy_accuracy</th>\n",
       "      <th>crude_accuracy</th>\n",
       "    </tr>\n",
       "  </thead>\n",
       "  <tbody>\n",
       "    <tr>\n",
       "      <th>count</th>\n",
       "      <td>4.0000</td>\n",
       "      <td>4.000000</td>\n",
       "      <td>4.000000</td>\n",
       "      <td>4.000000</td>\n",
       "      <td>4.000000</td>\n",
       "      <td>4.000000</td>\n",
       "      <td>4.000000</td>\n",
       "    </tr>\n",
       "    <tr>\n",
       "      <th>mean</th>\n",
       "      <td>513.7500</td>\n",
       "      <td>506.500000</td>\n",
       "      <td>579.000000</td>\n",
       "      <td>514.500000</td>\n",
       "      <td>0.987123</td>\n",
       "      <td>0.869081</td>\n",
       "      <td>0.991506</td>\n",
       "    </tr>\n",
       "    <tr>\n",
       "      <th>std</th>\n",
       "      <td>216.7016</td>\n",
       "      <td>212.512745</td>\n",
       "      <td>240.644967</td>\n",
       "      <td>214.162711</td>\n",
       "      <td>0.006241</td>\n",
       "      <td>0.021762</td>\n",
       "      <td>0.011730</td>\n",
       "    </tr>\n",
       "    <tr>\n",
       "      <th>min</th>\n",
       "      <td>271.0000</td>\n",
       "      <td>270.000000</td>\n",
       "      <td>315.000000</td>\n",
       "      <td>278.000000</td>\n",
       "      <td>0.983137</td>\n",
       "      <td>0.837638</td>\n",
       "      <td>0.974170</td>\n",
       "    </tr>\n",
       "    <tr>\n",
       "      <th>25%</th>\n",
       "      <td>382.0000</td>\n",
       "      <td>376.500000</td>\n",
       "      <td>428.250000</td>\n",
       "      <td>382.250000</td>\n",
       "      <td>0.983254</td>\n",
       "      <td>0.865818</td>\n",
       "      <td>0.989962</td>\n",
       "    </tr>\n",
       "    <tr>\n",
       "      <th>50%</th>\n",
       "      <td>506.0000</td>\n",
       "      <td>497.500000</td>\n",
       "      <td>566.500000</td>\n",
       "      <td>504.000000</td>\n",
       "      <td>0.984522</td>\n",
       "      <td>0.875429</td>\n",
       "      <td>0.995927</td>\n",
       "    </tr>\n",
       "    <tr>\n",
       "      <th>75%</th>\n",
       "      <td>637.7500</td>\n",
       "      <td>627.500000</td>\n",
       "      <td>717.250000</td>\n",
       "      <td>636.250000</td>\n",
       "      <td>0.988391</td>\n",
       "      <td>0.878693</td>\n",
       "      <td>0.997470</td>\n",
       "    </tr>\n",
       "    <tr>\n",
       "      <th>max</th>\n",
       "      <td>772.0000</td>\n",
       "      <td>761.000000</td>\n",
       "      <td>868.000000</td>\n",
       "      <td>772.000000</td>\n",
       "      <td>0.996310</td>\n",
       "      <td>0.887828</td>\n",
       "      <td>1.000000</td>\n",
       "    </tr>\n",
       "  </tbody>\n",
       "</table>\n",
       "</div>"
      ],
      "text/plain": [
       "       Google docs        nltk       spacy       crude  nltk_accuracy  \\\n",
       "count       4.0000    4.000000    4.000000    4.000000       4.000000   \n",
       "mean      513.7500  506.500000  579.000000  514.500000       0.987123   \n",
       "std       216.7016  212.512745  240.644967  214.162711       0.006241   \n",
       "min       271.0000  270.000000  315.000000  278.000000       0.983137   \n",
       "25%       382.0000  376.500000  428.250000  382.250000       0.983254   \n",
       "50%       506.0000  497.500000  566.500000  504.000000       0.984522   \n",
       "75%       637.7500  627.500000  717.250000  636.250000       0.988391   \n",
       "max       772.0000  761.000000  868.000000  772.000000       0.996310   \n",
       "\n",
       "       spacy_accuracy  crude_accuracy  \n",
       "count        4.000000        4.000000  \n",
       "mean         0.869081        0.991506  \n",
       "std          0.021762        0.011730  \n",
       "min          0.837638        0.974170  \n",
       "25%          0.865818        0.989962  \n",
       "50%          0.875429        0.995927  \n",
       "75%          0.878693        0.997470  \n",
       "max          0.887828        1.000000  "
      ]
     },
     "execution_count": 16,
     "metadata": {},
     "output_type": "execute_result"
    }
   ],
   "source": [
    "# In this cell, I will compare the performance of the word counting functions:\n",
    "# nltk, spacy, and my token counter\n",
    "\n",
    "titles = [\"Banksy-ele\", \"Banksy-int\", \"Banksy-adv\", \"gettysburg\"] # four text files\n",
    "gd_mwcl = [419, 593, 772, 271] # Google docs copy-paste word count\n",
    "nltk_wcl = []\n",
    "spacy_wcl = []\n",
    "my_wcl = []\n",
    "\n",
    "files = [\"ose_1ele_txt/Banksy-ele.txt\", \"ose_2int_txt/Banksy-int.txt\", \"ose_3adv_txt/Banksy-adv.txt\", \"gettysburg.txt\"]\n",
    "\n",
    "for file in files:\n",
    "    text_str = strip_process_file(file)\n",
    "    nltk_tokens = nltk.word_tokenize(text_str)\n",
    "    for token in nltk_tokens:\n",
    "        if token.isalnum() == False:\n",
    "            nltk_tokens.remove(token) # this removes punctuation tokens          \n",
    "    nltk_token_count = len(nltk_tokens)\n",
    "    nltk_wcl.append(nltk_token_count)\n",
    "    spacy_word_count = word_count(text_str)\n",
    "    spacy_wcl.append(spacy_word_count)\n",
    "    my_token_count = my_token_counter(text_str)\n",
    "    my_wcl.append(my_token_count)\n",
    "    \n",
    "data = {'Title': titles,\n",
    "        'Google docs': gd_mwcl,\n",
    "        'nltk': nltk_wcl,\n",
    "        'spacy': spacy_wcl,\n",
    "        'crude': my_wcl}\n",
    "\n",
    "wc_df = pd.DataFrame(data)\n",
    "wc_df['nltk_accuracy'] = 1 - abs(wc_df[\"nltk\"]-wc_df[\"Google docs\"]) / wc_df[\"Google docs\"]\n",
    "wc_df['spacy_accuracy'] = 1 - abs(wc_df[\"spacy\"]-wc_df[\"Google docs\"]) / wc_df[\"Google docs\"]\n",
    "wc_df['crude_accuracy'] = 1 - abs(wc_df[\"crude\"]-wc_df[\"Google docs\"]) / wc_df[\"Google docs\"]\n",
    "wc_df.describe()"
   ]
  },
  {
   "cell_type": "code",
   "execution_count": 17,
   "id": "c8ff4875",
   "metadata": {},
   "outputs": [
    {
     "name": "stdout",
     "output_type": "stream",
     "text": [
      "crime has 1 syllables - correct\n",
      "criminal has 3 syllables - correct\n",
      "Crimea has 1 syllables - incorrect\n",
      "cry has 1 syllables - correct\n",
      "crying has 2 syllables - correct\n",
      "rhyme has 1 syllables - correct\n",
      "rhyming has 1 syllables - incorrect\n",
      "rhythmic has 2 syllables - correct\n"
     ]
    }
   ],
   "source": [
    "# syllable count function is part of flesch-kincaid reading ease calculation\n",
    "# test run shows that it is not performing accurately\n",
    "# however, it never seems to over-count syllables, only under-count,\n",
    "# mostly when the words have suffixes or final vowels\n",
    "\n",
    "from textstat.textstat import textstatistics\n",
    "def syllables_count(word):\n",
    "    return textstatistics().syllable_count(word)\n",
    "\n",
    "words = [\"crime\", \"criminal\",\"Crimea\", \"cry\", \"crying\", \"rhyme\", \"rhyming\", \"rhythmic\"]\n",
    "\n",
    "true_syl_counts = [1, 3, 3, 1, 2, 1, 2, 2]\n",
    "textstat_counts = []\n",
    "eval_list = []\n",
    "\n",
    "for word in words:\n",
    "    textstat_counts.append(syllables_count(word))\n",
    "    \n",
    "for i in range(len(words)):\n",
    "    if textstat_counts[i] == true_syl_counts[i]:\n",
    "        eval_list.append(\"correct\")\n",
    "    else:\n",
    "        eval_list.append(\"incorrect\")\n",
    "    print('{} has {} syllables - {}'.format(words[i],textstat_counts[i],eval_list[i]))"
   ]
  },
  {
   "cell_type": "markdown",
   "id": "3bb613cf",
   "metadata": {},
   "source": [
    "## Process texts and create dataframe"
   ]
  },
  {
   "cell_type": "code",
   "execution_count": 18,
   "id": "6cfa64c5",
   "metadata": {},
   "outputs": [],
   "source": [
    "# plain text corpus has been downloaded into three subdirectories: ose_1ele_txt, ose_2int_txt, and ose_3adv_txt\n",
    "# this function processes those three subdirectories\n",
    "# and returns a dataframe with the following columns:\n",
    "# text title\n",
    "# text label (0 for ele, 1 for int, 2 for adv)\n",
    "# token count from nltk\n",
    "# type count from nltk\n",
    "# type-token ratio from nltk\n",
    "# crude homemade word count\n",
    "# spacy word count\n",
    "# spacy sentence count\n",
    "# spacy average sentence length\n",
    "# Flesch reading ease score\n",
    "\n",
    "def process_dir(directory):\n",
    "    \n",
    "    text_titles = []\n",
    "    text_labels = []\n",
    "    text_levels = []\n",
    "    nltk_token_counts = []\n",
    "    nltk_type_counts = []\n",
    "    ttr_list = []\n",
    "    \n",
    "    my_token_counts = []\n",
    "    \n",
    "    spacy_word_counts = []\n",
    "    sentence_counts = []\n",
    "    avg_sentence_lengths = []\n",
    "    fre_list = []\n",
    "    \n",
    "#     stopwords_english = stopwords.words('english')\n",
    "    \n",
    "    path = directory + \"/\"\n",
    "    file_list = os.listdir(directory)\n",
    "\n",
    "    for title in file_list:\n",
    "        file = path + title\n",
    "        raw_text = strip_process_file(file) # do i even need to do that?\n",
    "        \n",
    "        # nltk feature extraction\n",
    "        \n",
    "        raw_tokens = nltk.word_tokenize(raw_text) # looks like this automatically removes stopwords already\n",
    "        for token in raw_tokens:\n",
    "            if token.isalnum() == False:\n",
    "                raw_tokens.remove(token) # this removes punctuation tokens          \n",
    "#             if token in stopwords_english == True: \n",
    "#                 raw_tokens.remove(token) # get the stopwords out\n",
    "        nltk_token_count = len(raw_tokens)\n",
    "        nltk_type_set = set(raw_tokens)\n",
    "        nltk_type_count = len(nltk_type_set)\n",
    "        nltk_ttr = round(nltk_type_count / nltk_token_count, 3)\n",
    "        \n",
    "        # my feature extraction\n",
    "        \n",
    "        my_token_count = my_token_counter(raw_text)\n",
    "        \n",
    "        # spacy and textstat feature extraction\n",
    "        \n",
    "        spacy_word_count = word_count(raw_text)\n",
    "        spacy_sent_count = sentence_count(raw_text)\n",
    "        spacy_avg_sen_len = avg_sentence_length(raw_text)\n",
    "        fre = textstat.flesch_reading_ease(raw_text)\n",
    "\n",
    "        # start adding things to the lists so I can zip them into the df\n",
    "\n",
    "        text_titles.append(title[:-4]) # remove '.txt' from the title\n",
    "        label = title[-7:-4]           # convert the ele int adv tags to numerical labels\n",
    "        text_labels.append(label)\n",
    "        if label == 'ele':\n",
    "            level = 0\n",
    "        elif label == 'int':\n",
    "            level = 1\n",
    "        elif label == 'adv':\n",
    "            level = 2\n",
    "        text_levels.append(level)\n",
    "        nltk_token_counts.append(nltk_token_count)\n",
    "        nltk_type_counts.append(nltk_type_count)\n",
    "        ttr_list.append(nltk_ttr)\n",
    "        \n",
    "        my_token_counts.append(my_token_count)\n",
    "        \n",
    "        spacy_word_counts.append(spacy_word_count)\n",
    "        sentence_counts.append(spacy_sent_count)\n",
    "        avg_sentence_lengths.append(spacy_avg_sen_len)\n",
    "        fre_list.append(fre)\n",
    "\n",
    "    data = {'Title': text_titles,\n",
    "            'Label': text_labels,\n",
    "            'Level': text_levels,\n",
    "            'nltk Tokens': nltk_token_counts,\n",
    "            'nltk Types': nltk_type_counts,\n",
    "            'TTR': ttr_list,\n",
    "            'my tokens': my_token_counts,\n",
    "            'spacy wc': spacy_word_counts,\n",
    "            'spacy sc': sentence_counts,\n",
    "            'avg sent len': avg_sentence_lengths,\n",
    "            'Flesch RE': fre_list}\n",
    "\n",
    "    # Create DataFrame\n",
    "    df = pd.DataFrame(data)\n",
    "\n",
    "    return df"
   ]
  },
  {
   "cell_type": "code",
   "execution_count": 19,
   "id": "552fa3ac",
   "metadata": {},
   "outputs": [],
   "source": [
    "df_all = process_dir('ose_all_txt')"
   ]
  },
  {
   "cell_type": "code",
   "execution_count": 20,
   "id": "5e0564c7",
   "metadata": {},
   "outputs": [
    {
     "data": {
      "text/html": [
       "<div>\n",
       "<style scoped>\n",
       "    .dataframe tbody tr th:only-of-type {\n",
       "        vertical-align: middle;\n",
       "    }\n",
       "\n",
       "    .dataframe tbody tr th {\n",
       "        vertical-align: top;\n",
       "    }\n",
       "\n",
       "    .dataframe thead th {\n",
       "        text-align: right;\n",
       "    }\n",
       "</style>\n",
       "<table border=\"1\" class=\"dataframe\">\n",
       "  <thead>\n",
       "    <tr style=\"text-align: right;\">\n",
       "      <th></th>\n",
       "      <th>Title</th>\n",
       "      <th>Label</th>\n",
       "      <th>Level</th>\n",
       "      <th>nltk Tokens</th>\n",
       "      <th>nltk Types</th>\n",
       "      <th>TTR</th>\n",
       "      <th>my tokens</th>\n",
       "      <th>spacy wc</th>\n",
       "      <th>spacy sc</th>\n",
       "      <th>avg sent len</th>\n",
       "      <th>Flesch RE</th>\n",
       "    </tr>\n",
       "  </thead>\n",
       "  <tbody>\n",
       "    <tr>\n",
       "      <th>0</th>\n",
       "      <td>Amazon-adv</td>\n",
       "      <td>adv</td>\n",
       "      <td>2</td>\n",
       "      <td>610</td>\n",
       "      <td>320</td>\n",
       "      <td>0.525</td>\n",
       "      <td>625</td>\n",
       "      <td>732</td>\n",
       "      <td>22</td>\n",
       "      <td>33.272727</td>\n",
       "      <td>51.68</td>\n",
       "    </tr>\n",
       "    <tr>\n",
       "      <th>3</th>\n",
       "      <td>Amsterdam-adv</td>\n",
       "      <td>adv</td>\n",
       "      <td>2</td>\n",
       "      <td>440</td>\n",
       "      <td>241</td>\n",
       "      <td>0.548</td>\n",
       "      <td>452</td>\n",
       "      <td>503</td>\n",
       "      <td>17</td>\n",
       "      <td>29.588235</td>\n",
       "      <td>55.78</td>\n",
       "    </tr>\n",
       "    <tr>\n",
       "      <th>6</th>\n",
       "      <td>Anita-adv</td>\n",
       "      <td>adv</td>\n",
       "      <td>2</td>\n",
       "      <td>915</td>\n",
       "      <td>465</td>\n",
       "      <td>0.508</td>\n",
       "      <td>940</td>\n",
       "      <td>1109</td>\n",
       "      <td>45</td>\n",
       "      <td>24.644444</td>\n",
       "      <td>60.14</td>\n",
       "    </tr>\n",
       "    <tr>\n",
       "      <th>9</th>\n",
       "      <td>Arctic mapping-adv</td>\n",
       "      <td>adv</td>\n",
       "      <td>2</td>\n",
       "      <td>773</td>\n",
       "      <td>429</td>\n",
       "      <td>0.555</td>\n",
       "      <td>793</td>\n",
       "      <td>911</td>\n",
       "      <td>26</td>\n",
       "      <td>35.038462</td>\n",
       "      <td>58.55</td>\n",
       "    </tr>\n",
       "    <tr>\n",
       "      <th>12</th>\n",
       "      <td>Banksy-adv</td>\n",
       "      <td>adv</td>\n",
       "      <td>2</td>\n",
       "      <td>761</td>\n",
       "      <td>353</td>\n",
       "      <td>0.464</td>\n",
       "      <td>772</td>\n",
       "      <td>868</td>\n",
       "      <td>26</td>\n",
       "      <td>33.384615</td>\n",
       "      <td>61.40</td>\n",
       "    </tr>\n",
       "  </tbody>\n",
       "</table>\n",
       "</div>"
      ],
      "text/plain": [
       "                 Title Label  Level  nltk Tokens  nltk Types    TTR  \\\n",
       "0           Amazon-adv   adv      2          610         320  0.525   \n",
       "3        Amsterdam-adv   adv      2          440         241  0.548   \n",
       "6            Anita-adv   adv      2          915         465  0.508   \n",
       "9   Arctic mapping-adv   adv      2          773         429  0.555   \n",
       "12          Banksy-adv   adv      2          761         353  0.464   \n",
       "\n",
       "    my tokens  spacy wc  spacy sc  avg sent len  Flesch RE  \n",
       "0         625       732        22     33.272727      51.68  \n",
       "3         452       503        17     29.588235      55.78  \n",
       "6         940      1109        45     24.644444      60.14  \n",
       "9         793       911        26     35.038462      58.55  \n",
       "12        772       868        26     33.384615      61.40  "
      ]
     },
     "execution_count": 20,
     "metadata": {},
     "output_type": "execute_result"
    }
   ],
   "source": [
    "# df_all.groupby(['Level']).describe()\n",
    "\n",
    "df_ele = df_all[df_all.Level == 0]\n",
    "df_int = df_all[df_all.Level == 1]\n",
    "df_adv = df_all[df_all.Level == 2]\n",
    "\n",
    "df_ele_int = df_all[df_all.Level != 2]\n",
    "df_int_adv = df_all[df_all.Level != 0]\n",
    "df_ele_adv = df_all[df_all.Level != 1]\n",
    "\n",
    "df_ele.head()\n",
    "df_int.head()\n",
    "df_adv.head()"
   ]
  },
  {
   "cell_type": "markdown",
   "id": "bba03d38",
   "metadata": {},
   "source": [
    "## Create arrays, Sepaprate Training and Test sets, Classify, and Evaluate"
   ]
  },
  {
   "cell_type": "code",
   "execution_count": 21,
   "id": "3a249e0e",
   "metadata": {},
   "outputs": [],
   "source": [
    "# Create numpy arrays of word count, ttr, avg sentence length, and Flesch Reading Ease for each set of texts\n",
    "\n",
    "ele_array = df_ele[[\"my tokens\", \"TTR\", \"avg sent len\", \"Flesch RE\"]].to_numpy()\n",
    "ele_labels = df_ele[[\"Level\"]].to_numpy()\n",
    "\n",
    "int_array = df_int[[\"my tokens\", \"TTR\", \"avg sent len\", \"Flesch RE\"]].to_numpy()\n",
    "int_labels = df_int[[\"Level\"]].to_numpy()\n",
    "\n",
    "adv_array = df_adv[[\"my tokens\", \"TTR\", \"avg sent len\", \"Flesch RE\"]].to_numpy()\n",
    "adv_labels = df_adv[[\"Level\"]].to_numpy()\n",
    "\n",
    "# Assign texts to training and test sets\n",
    "\n",
    "trial_1_test_ele = ele_array[:94]\n",
    "trial_1_train_ele = ele_array[94:]\n",
    "trial_1_test_int = int_array[:94]\n",
    "trial_1_train_int = int_array[94:]\n",
    "trial_1_test_adv = adv_array[:94]\n",
    "trial_1_train_adv = adv_array[94:]\n",
    "\n",
    "trial_2_test_ele = ele_array[94:]\n",
    "trial_2_train_ele = ele_array[:94]\n",
    "trial_2_test_int = int_array[94:]\n",
    "trial_2_train_int = int_array[:94]\n",
    "trial_2_test_adv = adv_array[94:]\n",
    "trial_2_train_adv = adv_array[:94]"
   ]
  },
  {
   "cell_type": "code",
   "execution_count": 22,
   "id": "41deaf70",
   "metadata": {},
   "outputs": [],
   "source": [
    "def evaluate(test_x, test_y):\n",
    "\n",
    "    from sklearn import metrics\n",
    "    predictions = clf.predict(test_x)\n",
    "    accuracy_score = metrics.accuracy_score(predictions, test_y)\n",
    "    precision_score = metrics.precision_score(predictions, test_y)\n",
    "    recall_score = metrics.recall_score(predictions, test_y)\n",
    "\n",
    "    return precision_score, recall_score, accuracy_score\n"
   ]
  },
  {
   "cell_type": "code",
   "execution_count": 23,
   "id": "6f09b898",
   "metadata": {},
   "outputs": [],
   "source": [
    "# Trial 1 - beginner vs intermediate\n",
    "\n",
    "train_x = np.concatenate((trial_1_train_ele, trial_1_train_int)) \n",
    "test_x = np.concatenate((trial_1_test_ele, trial_1_test_int))\n",
    "\n",
    "train_y = np.append(np.zeros((len(trial_1_train_ele),1)), np.ones((len(trial_1_train_int),1)), axis=0)\n",
    "test_y = np.append(np.zeros((len(trial_1_test_ele),1)), np.ones((len(trial_1_test_int),1)), axis=0)\n",
    "\n",
    "# print(\"train_x.shape = \" + str(train_x.shape))\n",
    "# print(\"train_y.shape = \" + str(train_y.shape))"
   ]
  },
  {
   "cell_type": "code",
   "execution_count": 24,
   "id": "13ea081b",
   "metadata": {},
   "outputs": [
    {
     "name": "stderr",
     "output_type": "stream",
     "text": [
      "C:\\Users\\mande\\anaconda3\\lib\\site-packages\\sklearn\\utils\\validation.py:993: DataConversionWarning: A column-vector y was passed when a 1d array was expected. Please change the shape of y to (n_samples, ), for example using ravel().\n",
      "  y = column_or_1d(y, warn=True)\n"
     ]
    },
    {
     "data": {
      "text/plain": [
       "SVC()"
      ]
     },
     "execution_count": 24,
     "metadata": {},
     "output_type": "execute_result"
    }
   ],
   "source": [
    "from sklearn import svm\n",
    "X = train_x\n",
    "y = train_y\n",
    "clf = svm.SVC()\n",
    "clf.fit(X, y)\n"
   ]
  },
  {
   "cell_type": "code",
   "execution_count": 25,
   "id": "5262a228",
   "metadata": {},
   "outputs": [],
   "source": [
    "ele_v_int_trial_1_precision, ele_v_int_trial_1_recall, ele_v_int_trial_1_accuracy = evaluate(test_x, test_y)"
   ]
  },
  {
   "cell_type": "code",
   "execution_count": 26,
   "id": "4dc40f65",
   "metadata": {},
   "outputs": [],
   "source": [
    "# Trial 2 - beginner vs. intermediate\n",
    "\n",
    "train_x = np.concatenate((trial_2_train_ele, trial_2_train_int)) \n",
    "test_x = np.concatenate((trial_2_test_ele, trial_2_test_int))\n",
    "\n",
    "train_y = np.append(np.zeros((len(trial_2_train_ele),1)), np.ones((len(trial_2_train_int),1)), axis=0)\n",
    "test_y = np.append(np.zeros((len(trial_2_test_ele),1)), np.ones((len(trial_2_test_int),1)), axis=0)\n",
    "\n",
    "# print(\"train_x.shape = \" + str(train_x.shape))\n",
    "# print(\"train_y.shape = \" + str(train_y.shape))"
   ]
  },
  {
   "cell_type": "code",
   "execution_count": 27,
   "id": "5600b52e",
   "metadata": {},
   "outputs": [
    {
     "name": "stderr",
     "output_type": "stream",
     "text": [
      "C:\\Users\\mande\\anaconda3\\lib\\site-packages\\sklearn\\utils\\validation.py:993: DataConversionWarning: A column-vector y was passed when a 1d array was expected. Please change the shape of y to (n_samples, ), for example using ravel().\n",
      "  y = column_or_1d(y, warn=True)\n"
     ]
    },
    {
     "data": {
      "text/plain": [
       "SVC()"
      ]
     },
     "execution_count": 27,
     "metadata": {},
     "output_type": "execute_result"
    }
   ],
   "source": [
    "from sklearn import svm\n",
    "X = train_x\n",
    "y = train_y\n",
    "clf = svm.SVC()\n",
    "clf.fit(X, y)\n"
   ]
  },
  {
   "cell_type": "code",
   "execution_count": 28,
   "id": "30552ddc",
   "metadata": {},
   "outputs": [],
   "source": [
    "ele_v_int_trial_2_precision, ele_v_int_trial_2_recall, ele_v_int_trial_2_accuracy = evaluate(test_x, test_y)"
   ]
  },
  {
   "cell_type": "code",
   "execution_count": 29,
   "id": "7083b04a",
   "metadata": {},
   "outputs": [],
   "source": [
    "# Trial 1 - intermediate v advanced\n",
    "\n",
    "train_x = np.concatenate((trial_1_train_int, trial_1_train_adv)) \n",
    "test_x = np.concatenate((trial_1_test_int, trial_1_test_adv))\n",
    "\n",
    "train_y = np.append(np.zeros((len(trial_1_train_int),1)), np.ones((len(trial_1_train_adv),1)), axis=0)\n",
    "test_y = np.append(np.zeros((len(trial_1_test_int),1)), np.ones((len(trial_1_test_adv),1)), axis=0)\n",
    "\n",
    "# print(\"train_x.shape = \" + str(train_x.shape))\n",
    "# print(\"train_y.shape = \" + str(train_y.shape))"
   ]
  },
  {
   "cell_type": "code",
   "execution_count": 30,
   "id": "dbeaf58c",
   "metadata": {},
   "outputs": [
    {
     "name": "stderr",
     "output_type": "stream",
     "text": [
      "C:\\Users\\mande\\anaconda3\\lib\\site-packages\\sklearn\\utils\\validation.py:993: DataConversionWarning: A column-vector y was passed when a 1d array was expected. Please change the shape of y to (n_samples, ), for example using ravel().\n",
      "  y = column_or_1d(y, warn=True)\n"
     ]
    },
    {
     "data": {
      "text/plain": [
       "SVC()"
      ]
     },
     "execution_count": 30,
     "metadata": {},
     "output_type": "execute_result"
    }
   ],
   "source": [
    "from sklearn import svm\n",
    "X = train_x\n",
    "y = train_y\n",
    "clf = svm.SVC()\n",
    "clf.fit(X, y)\n"
   ]
  },
  {
   "cell_type": "code",
   "execution_count": 31,
   "id": "ae465d93",
   "metadata": {},
   "outputs": [],
   "source": [
    "int_v_adv_trial_1_precision, int_v_adv_trial_1_recall, int_v_adv_trial_1_accuracy = evaluate(test_x, test_y)"
   ]
  },
  {
   "cell_type": "code",
   "execution_count": 32,
   "id": "6b5a63d7",
   "metadata": {},
   "outputs": [],
   "source": [
    "# Trial 2 - intermediate v advanced\n",
    "\n",
    "train_x = np.concatenate((trial_2_train_int, trial_2_train_adv)) \n",
    "test_x = np.concatenate((trial_2_test_int, trial_2_test_adv))\n",
    "\n",
    "train_y = np.append(np.zeros((len(trial_2_train_int),1)), np.ones((len(trial_2_train_adv),1)), axis=0)\n",
    "test_y = np.append(np.zeros((len(trial_2_test_int),1)), np.ones((len(trial_2_test_adv),1)), axis=0)\n",
    "\n",
    "# print(\"train_x.shape = \" + str(train_x.shape))\n",
    "# print(\"train_y.shape = \" + str(train_y.shape))"
   ]
  },
  {
   "cell_type": "code",
   "execution_count": 33,
   "id": "73957750",
   "metadata": {},
   "outputs": [
    {
     "name": "stderr",
     "output_type": "stream",
     "text": [
      "C:\\Users\\mande\\anaconda3\\lib\\site-packages\\sklearn\\utils\\validation.py:993: DataConversionWarning: A column-vector y was passed when a 1d array was expected. Please change the shape of y to (n_samples, ), for example using ravel().\n",
      "  y = column_or_1d(y, warn=True)\n"
     ]
    },
    {
     "data": {
      "text/plain": [
       "SVC()"
      ]
     },
     "execution_count": 33,
     "metadata": {},
     "output_type": "execute_result"
    }
   ],
   "source": [
    "from sklearn import svm\n",
    "X = train_x\n",
    "y = train_y\n",
    "clf = svm.SVC()\n",
    "clf.fit(X, y)\n"
   ]
  },
  {
   "cell_type": "code",
   "execution_count": 34,
   "id": "63dbe26d",
   "metadata": {},
   "outputs": [],
   "source": [
    "int_v_adv_trial_2_precision, int_v_adv_trial_2_recall, int_v_adv_trial_2_accuracy = evaluate(test_x, test_y)"
   ]
  },
  {
   "cell_type": "code",
   "execution_count": 35,
   "id": "935a8bc2",
   "metadata": {},
   "outputs": [],
   "source": [
    "# Trial 1 - elementary v advanced\n",
    "\n",
    "train_x = np.concatenate((trial_1_train_ele, trial_1_train_adv)) \n",
    "test_x = np.concatenate((trial_1_test_ele, trial_1_test_adv))\n",
    "\n",
    "train_y = np.append(np.zeros((len(trial_1_train_ele),1)), np.ones((len(trial_1_train_adv),1)), axis=0)\n",
    "test_y = np.append(np.zeros((len(trial_1_test_ele),1)), np.ones((len(trial_1_test_adv),1)), axis=0)"
   ]
  },
  {
   "cell_type": "code",
   "execution_count": 36,
   "id": "8af9f155",
   "metadata": {},
   "outputs": [
    {
     "name": "stderr",
     "output_type": "stream",
     "text": [
      "C:\\Users\\mande\\anaconda3\\lib\\site-packages\\sklearn\\utils\\validation.py:993: DataConversionWarning: A column-vector y was passed when a 1d array was expected. Please change the shape of y to (n_samples, ), for example using ravel().\n",
      "  y = column_or_1d(y, warn=True)\n"
     ]
    },
    {
     "data": {
      "text/plain": [
       "SVC()"
      ]
     },
     "execution_count": 36,
     "metadata": {},
     "output_type": "execute_result"
    }
   ],
   "source": [
    "from sklearn import svm\n",
    "X = train_x\n",
    "y = train_y\n",
    "clf = svm.SVC()\n",
    "clf.fit(X, y)"
   ]
  },
  {
   "cell_type": "code",
   "execution_count": 37,
   "id": "237190e2",
   "metadata": {},
   "outputs": [],
   "source": [
    "ele_v_adv_trial_1_precision, ele_v_adv_trial_1_recall, ele_v_adv_trial_1_accuracy = evaluate(test_x, test_y)"
   ]
  },
  {
   "cell_type": "code",
   "execution_count": 38,
   "id": "b478ecab",
   "metadata": {},
   "outputs": [],
   "source": [
    "# Trial 2 - elementary v advanced\n",
    "\n",
    "train_x = np.concatenate((trial_2_train_ele, trial_2_train_adv)) \n",
    "test_x = np.concatenate((trial_2_test_ele, trial_2_test_adv))\n",
    "\n",
    "train_y = np.append(np.zeros((len(trial_2_train_ele),1)), np.ones((len(trial_2_train_adv),1)), axis=0)\n",
    "test_y = np.append(np.zeros((len(trial_2_test_ele),1)), np.ones((len(trial_2_test_adv),1)), axis=0)"
   ]
  },
  {
   "cell_type": "code",
   "execution_count": 39,
   "id": "f5ed5177",
   "metadata": {},
   "outputs": [
    {
     "name": "stderr",
     "output_type": "stream",
     "text": [
      "C:\\Users\\mande\\anaconda3\\lib\\site-packages\\sklearn\\utils\\validation.py:993: DataConversionWarning: A column-vector y was passed when a 1d array was expected. Please change the shape of y to (n_samples, ), for example using ravel().\n",
      "  y = column_or_1d(y, warn=True)\n"
     ]
    },
    {
     "data": {
      "text/plain": [
       "SVC()"
      ]
     },
     "execution_count": 39,
     "metadata": {},
     "output_type": "execute_result"
    }
   ],
   "source": [
    "from sklearn import svm\n",
    "X = train_x\n",
    "y = train_y\n",
    "clf = svm.SVC()\n",
    "clf.fit(X, y)"
   ]
  },
  {
   "cell_type": "code",
   "execution_count": 40,
   "id": "ee8132a2",
   "metadata": {},
   "outputs": [],
   "source": [
    "ele_v_adv_trial_2_precision, ele_v_adv_trial_2_recall, ele_v_adv_trial_2_accuracy = evaluate(test_x, test_y)"
   ]
  },
  {
   "cell_type": "code",
   "execution_count": 41,
   "id": "a97115d9",
   "metadata": {},
   "outputs": [
    {
     "name": "stdout",
     "output_type": "stream",
     "text": [
      "ele_v_int trial 1 accuracy: 0.7393617021276596\n",
      "ele_v_int trial 1 precision: 0.6063829787234043\n",
      "ele_v_int trial 1 recall: 0.8260869565217391\n",
      "ele_v_int trial 2 accuracy: 0.7526315789473684\n",
      "ele_v_int trial 2 precision: 0.7789473684210526\n",
      "ele_v_int trial 2 recall: 0.74\n",
      "int_v_adv trial 1 accuracy: 0.723404255319149\n",
      "int_v_adv trial 1 precision: 0.4787234042553192\n",
      "int_v_adv trial 1 recall: 0.9375\n",
      "int_v_adv trial 2 accuracy: 0.7052631578947368\n",
      "int_v_adv trial 2 precision: 0.6\n",
      "int_v_adv trial 2 recall: 0.76\n",
      "ele_v_adv trial 1 accuracy: 0.8776595744680851\n",
      "ele_v_adv trial 1 precision: 0.7872340425531915\n",
      "ele_v_adv trial 1 recall: 0.961038961038961\n",
      "ele_v_adv trial 2 accuracy: 0.8736842105263158\n",
      "ele_v_adv trial 2 precision: 0.8210526315789474\n",
      "ele_v_adv trial 2 recall: 0.9176470588235294\n"
     ]
    }
   ],
   "source": [
    "print(\"ele_v_int trial 1 accuracy:\",ele_v_int_trial_1_accuracy)\n",
    "print(\"ele_v_int trial 1 precision:\",ele_v_int_trial_1_precision)\n",
    "print(\"ele_v_int trial 1 recall:\",ele_v_int_trial_1_recall)\n",
    "print(\"ele_v_int trial 2 accuracy:\",ele_v_int_trial_2_accuracy)\n",
    "print(\"ele_v_int trial 2 precision:\",ele_v_int_trial_2_precision)\n",
    "print(\"ele_v_int trial 2 recall:\",ele_v_int_trial_2_recall)\n",
    "print(\"int_v_adv trial 1 accuracy:\",int_v_adv_trial_1_accuracy)\n",
    "print(\"int_v_adv trial 1 precision:\",int_v_adv_trial_1_precision)\n",
    "print(\"int_v_adv trial 1 recall:\",int_v_adv_trial_1_recall)\n",
    "print(\"int_v_adv trial 2 accuracy:\",int_v_adv_trial_2_accuracy)\n",
    "print(\"int_v_adv trial 2 precision:\",int_v_adv_trial_2_precision)\n",
    "print(\"int_v_adv trial 2 recall:\",int_v_adv_trial_2_recall)\n",
    "print(\"ele_v_adv trial 1 accuracy:\",ele_v_adv_trial_1_accuracy)\n",
    "print(\"ele_v_adv trial 1 precision:\",ele_v_adv_trial_1_precision)\n",
    "print(\"ele_v_adv trial 1 recall:\",ele_v_adv_trial_1_recall)\n",
    "print(\"ele_v_adv trial 2 accuracy:\",ele_v_adv_trial_2_accuracy)\n",
    "print(\"ele_v_adv trial 2 precision:\",ele_v_adv_trial_2_precision)\n",
    "print(\"ele_v_adv trial 2 recall:\",ele_v_adv_trial_2_recall)\n",
    "\n"
   ]
  },
  {
   "cell_type": "markdown",
   "id": "e91f3d10",
   "metadata": {},
   "source": [
    "## Graphing Results of Classifier, Trials 1 and 2 (4 features)"
   ]
  },
  {
   "cell_type": "code",
   "execution_count": 42,
   "id": "a5a73021",
   "metadata": {},
   "outputs": [],
   "source": [
    "from matplotlib import pyplot as plt\n",
    "\n",
    "def plot_apr(array, title):\n",
    "    x = \"Accuracy\", \"Precision\", \"Recall\", \"Accuracy\", \"Precision\", \"Recall\"\n",
    "    y = array[0], array[1], array[2], array[3], array[4], array[5]\n",
    "    plt.bar(x,y)\n",
    "    plt.title(title)\n",
    "    plt.show()    "
   ]
  },
  {
   "cell_type": "code",
   "execution_count": 43,
   "id": "8eaaf797",
   "metadata": {},
   "outputs": [
    {
     "data": {
      "image/png": "[encoded data removed]",
      "text/plain": [
       "<Figure size 432x288 with 1 Axes>"
      ]
     },
     "metadata": {
      "needs_background": "light"
     },
     "output_type": "display_data"
    },
    {
     "data": {
      "image/png": "[encoded data removed]",
      "text/plain": [
       "<Figure size 432x288 with 1 Axes>"
      ]
     },
     "metadata": {
      "needs_background": "light"
     },
     "output_type": "display_data"
    },
    {
     "data": {
      "image/png": "[encoded data removed]",
      "text/plain": [
       "<Figure size 432x288 with 1 Axes>"
      ]
     },
     "metadata": {
      "needs_background": "light"
     },
     "output_type": "display_data"
    }
   ],
   "source": [
    "ele_v_int_array = [ele_v_int_trial_1_accuracy, ele_v_int_trial_1_precision, ele_v_int_trial_1_recall,\n",
    "                   ele_v_int_trial_2_accuracy, ele_v_int_trial_2_precision, ele_v_int_trial_2_recall]\n",
    "int_v_adv_array = [int_v_adv_trial_1_accuracy, int_v_adv_trial_1_precision, int_v_adv_trial_1_recall,\n",
    "                   int_v_adv_trial_2_accuracy, int_v_adv_trial_2_precision, int_v_adv_trial_2_recall]\n",
    "ele_v_adv_array = [ele_v_adv_trial_1_accuracy, ele_v_adv_trial_1_precision, ele_v_adv_trial_1_recall,\n",
    "                   ele_v_adv_trial_2_accuracy, ele_v_adv_trial_2_precision, ele_v_adv_trial_2_recall]\n",
    "\n",
    "plot_apr(ele_v_int_array, \"Elementary v. Intermediate\")\n",
    "plot_apr(int_v_adv_array, \"Intermediate v. Advanced\")\n",
    "plot_apr(ele_v_adv_array, \"Elementary v. Advanced\")"
   ]
  },
  {
   "cell_type": "markdown",
   "id": "a888bb11",
   "metadata": {},
   "source": [
    "## Classifier Trials 3 and 4 - word count and sentence length only"
   ]
  },
  {
   "cell_type": "code",
   "execution_count": 44,
   "id": "1a74e259",
   "metadata": {},
   "outputs": [],
   "source": [
    "# feature engineering\n",
    "# try repeating the tests with fewer features\n",
    "# word count and avg sent len only\n",
    "\n",
    "ele_array = df_ele[[\"my tokens\", \"avg sent len\"]].to_numpy()\n",
    "ele_labels = df_ele[[\"Level\"]].to_numpy()\n",
    "\n",
    "int_array = df_int[[\"my tokens\", \"avg sent len\"]].to_numpy()\n",
    "int_labels = df_int[[\"Level\"]].to_numpy()\n",
    "\n",
    "adv_array = df_adv[[\"my tokens\", \"avg sent len\"]].to_numpy()\n",
    "adv_labels = df_adv[[\"Level\"]].to_numpy()\n",
    "\n",
    "# Assign texts to training and test sets\n",
    "\n",
    "trial_1_test_ele = ele_array[:94]\n",
    "trial_1_train_ele = ele_array[94:]\n",
    "trial_1_test_int = int_array[:94]\n",
    "trial_1_train_int = int_array[94:]\n",
    "trial_1_test_adv = adv_array[:94]\n",
    "trial_1_train_adv = adv_array[94:]\n",
    "\n",
    "trial_2_test_ele = ele_array[94:]\n",
    "trial_2_train_ele = ele_array[:94]\n",
    "trial_2_test_int = int_array[94:]\n",
    "trial_2_train_int = int_array[:94]\n",
    "trial_2_test_adv = adv_array[94:]\n",
    "trial_2_train_adv = adv_array[:94]"
   ]
  },
  {
   "cell_type": "code",
   "execution_count": 45,
   "id": "2acd0abb",
   "metadata": {},
   "outputs": [
    {
     "name": "stdout",
     "output_type": "stream",
     "text": [
      "ele_v_int trial 3 accuracy: 0.7340425531914894\n",
      "ele_v_int trial 3 precision: 0.6063829787234043\n",
      "ele_v_int trial 3 recall: 0.8142857142857143\n",
      "ele_v_int trial 4 accuracy: 0.7526315789473684\n",
      "ele_v_int trial 4 precision: 0.7789473684210526\n",
      "ele_v_int trial 4 recall: 0.74\n",
      "int_v_adv trial 3 accuracy: 0.723404255319149\n",
      "int_v_adv trial 3 precision: 0.4787234042553192\n",
      "int_v_adv trial 3 recall: 0.9375\n",
      "int_v_adv trial 4 accuracy: 0.7052631578947368\n",
      "int_v_adv trial 4 precision: 0.5789473684210527\n",
      "int_v_adv trial 4 recall: 0.7746478873239436\n",
      "ele_v_adv trial 3 accuracy: 0.8776595744680851\n",
      "ele_v_adv trial 3 precision: 0.7872340425531915\n",
      "ele_v_adv trial 3 recall: 0.961038961038961\n",
      "ele_v_adv trial 4 accuracy: 0.8736842105263158\n",
      "ele_v_adv trial 4 precision: 0.8210526315789474\n",
      "ele_v_adv trial 4 recall: 0.9176470588235294\n"
     ]
    },
    {
     "name": "stderr",
     "output_type": "stream",
     "text": [
      "C:\\Users\\mande\\anaconda3\\lib\\site-packages\\sklearn\\utils\\validation.py:993: DataConversionWarning: A column-vector y was passed when a 1d array was expected. Please change the shape of y to (n_samples, ), for example using ravel().\n",
      "  y = column_or_1d(y, warn=True)\n",
      "C:\\Users\\mande\\anaconda3\\lib\\site-packages\\sklearn\\utils\\validation.py:993: DataConversionWarning: A column-vector y was passed when a 1d array was expected. Please change the shape of y to (n_samples, ), for example using ravel().\n",
      "  y = column_or_1d(y, warn=True)\n",
      "C:\\Users\\mande\\anaconda3\\lib\\site-packages\\sklearn\\utils\\validation.py:993: DataConversionWarning: A column-vector y was passed when a 1d array was expected. Please change the shape of y to (n_samples, ), for example using ravel().\n",
      "  y = column_or_1d(y, warn=True)\n",
      "C:\\Users\\mande\\anaconda3\\lib\\site-packages\\sklearn\\utils\\validation.py:993: DataConversionWarning: A column-vector y was passed when a 1d array was expected. Please change the shape of y to (n_samples, ), for example using ravel().\n",
      "  y = column_or_1d(y, warn=True)\n",
      "C:\\Users\\mande\\anaconda3\\lib\\site-packages\\sklearn\\utils\\validation.py:993: DataConversionWarning: A column-vector y was passed when a 1d array was expected. Please change the shape of y to (n_samples, ), for example using ravel().\n",
      "  y = column_or_1d(y, warn=True)\n",
      "C:\\Users\\mande\\anaconda3\\lib\\site-packages\\sklearn\\utils\\validation.py:993: DataConversionWarning: A column-vector y was passed when a 1d array was expected. Please change the shape of y to (n_samples, ), for example using ravel().\n",
      "  y = column_or_1d(y, warn=True)\n"
     ]
    }
   ],
   "source": [
    "# Trial 3 - beginner vs intermediate with only two features\n",
    "# word count and avg sent len only\n",
    "\n",
    "train_x = np.concatenate((trial_1_train_ele, trial_1_train_int)) \n",
    "test_x = np.concatenate((trial_1_test_ele, trial_1_test_int))\n",
    "\n",
    "train_y = np.append(np.zeros((len(trial_1_train_ele),1)), np.ones((len(trial_1_train_int),1)), axis=0)\n",
    "test_y = np.append(np.zeros((len(trial_1_test_ele),1)), np.ones((len(trial_1_test_int),1)), axis=0)\n",
    "\n",
    "X = train_x\n",
    "y = train_y\n",
    "clf = svm.SVC()\n",
    "clf.fit(X, y)\n",
    "\n",
    "ele_v_int_trial_3_precision, ele_v_int_trial_3_recall, ele_v_int_trial_3_accuracy = evaluate(test_x, test_y)\n",
    "\n",
    "# Trial 4 - beginner vs. intermediate with only two features\n",
    "# word count and avg sent len only\n",
    "\n",
    "\n",
    "train_x = np.concatenate((trial_2_train_ele, trial_2_train_int)) \n",
    "test_x = np.concatenate((trial_2_test_ele, trial_2_test_int))\n",
    "\n",
    "train_y = np.append(np.zeros((len(trial_2_train_ele),1)), np.ones((len(trial_2_train_int),1)), axis=0)\n",
    "test_y = np.append(np.zeros((len(trial_2_test_ele),1)), np.ones((len(trial_2_test_int),1)), axis=0)\n",
    "\n",
    "X = train_x\n",
    "y = train_y\n",
    "clf = svm.SVC()\n",
    "clf.fit(X, y)\n",
    "\n",
    "ele_v_int_trial_4_precision, ele_v_int_trial_4_recall, ele_v_int_trial_4_accuracy = evaluate(test_x, test_y)\n",
    "\n",
    "\n",
    "# Trial 3 - intermediate v advanced with only two features\n",
    "# word count and avg sent len only\n",
    "\n",
    "\n",
    "train_x = np.concatenate((trial_1_train_int, trial_1_train_adv)) \n",
    "test_x = np.concatenate((trial_1_test_int, trial_1_test_adv))\n",
    "\n",
    "train_y = np.append(np.zeros((len(trial_1_train_int),1)), np.ones((len(trial_1_train_adv),1)), axis=0)\n",
    "test_y = np.append(np.zeros((len(trial_1_test_int),1)), np.ones((len(trial_1_test_adv),1)), axis=0)\n",
    "\n",
    "X = train_x\n",
    "y = train_y\n",
    "clf = svm.SVC()\n",
    "clf.fit(X, y)\n",
    "\n",
    "int_v_adv_trial_3_precision, int_v_adv_trial_3_recall, int_v_adv_trial_3_accuracy = evaluate(test_x, test_y)\n",
    "\n",
    "# Trial 4 - intermediate v advanced with only two features\n",
    "# word count and avg sent len only\n",
    "\n",
    "\n",
    "train_x = np.concatenate((trial_2_train_int, trial_2_train_adv)) \n",
    "test_x = np.concatenate((trial_2_test_int, trial_2_test_adv))\n",
    "\n",
    "train_y = np.append(np.zeros((len(trial_2_train_int),1)), np.ones((len(trial_2_train_adv),1)), axis=0)\n",
    "test_y = np.append(np.zeros((len(trial_2_test_int),1)), np.ones((len(trial_2_test_adv),1)), axis=0)\n",
    "\n",
    "X = train_x\n",
    "y = train_y\n",
    "clf = svm.SVC()\n",
    "clf.fit(X, y)\n",
    "\n",
    "int_v_adv_trial_4_precision, int_v_adv_trial_4_recall, int_v_adv_trial_4_accuracy = evaluate(test_x, test_y)\n",
    "\n",
    "# Trial 3 - elementary v advanced with only two features\n",
    "# word count and avg sent len only\n",
    "\n",
    "\n",
    "train_x = np.concatenate((trial_1_train_ele, trial_1_train_adv)) \n",
    "test_x = np.concatenate((trial_1_test_ele, trial_1_test_adv))\n",
    "\n",
    "train_y = np.append(np.zeros((len(trial_1_train_ele),1)), np.ones((len(trial_1_train_adv),1)), axis=0)\n",
    "test_y = np.append(np.zeros((len(trial_1_test_ele),1)), np.ones((len(trial_1_test_adv),1)), axis=0)\n",
    "\n",
    "X = train_x\n",
    "y = train_y\n",
    "clf = svm.SVC()\n",
    "clf.fit(X, y)\n",
    "\n",
    "ele_v_adv_trial_3_precision, ele_v_adv_trial_3_recall, ele_v_adv_trial_3_accuracy = evaluate(test_x, test_y)\n",
    "\n",
    "# Trial 4 - elementary v advanced with only two features\n",
    "# word count and avg sent len only\n",
    "\n",
    "\n",
    "train_x = np.concatenate((trial_2_train_ele, trial_2_train_adv)) \n",
    "test_x = np.concatenate((trial_2_test_ele, trial_2_test_adv))\n",
    "\n",
    "train_y = np.append(np.zeros((len(trial_2_train_ele),1)), np.ones((len(trial_2_train_adv),1)), axis=0)\n",
    "test_y = np.append(np.zeros((len(trial_2_test_ele),1)), np.ones((len(trial_2_test_adv),1)), axis=0)\n",
    "\n",
    "X = train_x\n",
    "y = train_y\n",
    "clf = svm.SVC()\n",
    "clf.fit(X, y)\n",
    "\n",
    "ele_v_adv_trial_4_precision, ele_v_adv_trial_4_recall, ele_v_adv_trial_4_accuracy = evaluate(test_x, test_y)\n",
    "\n",
    "print(\"ele_v_int trial 3 accuracy:\",ele_v_int_trial_3_accuracy)\n",
    "print(\"ele_v_int trial 3 precision:\",ele_v_int_trial_3_precision)\n",
    "print(\"ele_v_int trial 3 recall:\",ele_v_int_trial_3_recall)\n",
    "print(\"ele_v_int trial 4 accuracy:\",ele_v_int_trial_4_accuracy)\n",
    "print(\"ele_v_int trial 4 precision:\",ele_v_int_trial_4_precision)\n",
    "print(\"ele_v_int trial 4 recall:\",ele_v_int_trial_4_recall)\n",
    "print(\"int_v_adv trial 3 accuracy:\",int_v_adv_trial_3_accuracy)\n",
    "print(\"int_v_adv trial 3 precision:\",int_v_adv_trial_3_precision)\n",
    "print(\"int_v_adv trial 3 recall:\",int_v_adv_trial_3_recall)\n",
    "print(\"int_v_adv trial 4 accuracy:\",int_v_adv_trial_4_accuracy)\n",
    "print(\"int_v_adv trial 4 precision:\",int_v_adv_trial_4_precision)\n",
    "print(\"int_v_adv trial 4 recall:\",int_v_adv_trial_4_recall)\n",
    "print(\"ele_v_adv trial 3 accuracy:\",ele_v_adv_trial_3_accuracy)\n",
    "print(\"ele_v_adv trial 3 precision:\",ele_v_adv_trial_3_precision)\n",
    "print(\"ele_v_adv trial 3 recall:\",ele_v_adv_trial_3_recall)\n",
    "print(\"ele_v_adv trial 4 accuracy:\",ele_v_adv_trial_4_accuracy)\n",
    "print(\"ele_v_adv trial 4 precision:\",ele_v_adv_trial_4_precision)\n",
    "print(\"ele_v_adv trial 4 recall:\",ele_v_adv_trial_4_recall)"
   ]
  },
  {
   "cell_type": "code",
   "execution_count": null,
   "id": "42c6ca68",
   "metadata": {},
   "outputs": [],
   "source": []
  },
  {
   "cell_type": "code",
   "execution_count": 49,
   "id": "668f299d",
   "metadata": {},
   "outputs": [],
   "source": [
    "# feature engineering\n",
    "# try repeating the tests with fewer features\n",
    "# word count only\n",
    "\n",
    "ele_array = df_ele[[\"my tokens\"]].to_numpy()\n",
    "ele_labels = df_ele[[\"Level\"]].to_numpy()\n",
    "\n",
    "int_array = df_int[[\"my tokens\"]].to_numpy()\n",
    "int_labels = df_int[[\"Level\"]].to_numpy()\n",
    "\n",
    "adv_array = df_adv[[\"my tokens\"]].to_numpy()\n",
    "adv_labels = df_adv[[\"Level\"]].to_numpy()\n",
    "\n",
    "# Assign texts to training and test sets\n",
    "\n",
    "trial_1_test_ele = ele_array[:94]\n",
    "trial_1_train_ele = ele_array[94:]\n",
    "trial_1_test_int = int_array[:94]\n",
    "trial_1_train_int = int_array[94:]\n",
    "trial_1_test_adv = adv_array[:94]\n",
    "trial_1_train_adv = adv_array[94:]\n",
    "\n",
    "trial_2_test_ele = ele_array[94:]\n",
    "trial_2_train_ele = ele_array[:94]\n",
    "trial_2_test_int = int_array[94:]\n",
    "trial_2_train_int = int_array[:94]\n",
    "trial_2_test_adv = adv_array[94:]\n",
    "trial_2_train_adv = adv_array[:94]"
   ]
  },
  {
   "cell_type": "code",
   "execution_count": 50,
   "id": "bd506bf8",
   "metadata": {},
   "outputs": [
    {
     "name": "stdout",
     "output_type": "stream",
     "text": [
      "ele_v_int trial 5 accuracy: 0.723404255319149\n",
      "ele_v_int trial 5 precision: 0.5425531914893617\n",
      "ele_v_int trial 5 recall: 0.85\n",
      "ele_v_int trial 6 accuracy: 0.7526315789473684\n",
      "ele_v_int trial 6 precision: 0.7684210526315789\n",
      "ele_v_int trial 6 recall: 0.7448979591836735\n",
      "int_v_adv trial 5 accuracy: 0.7180851063829787\n",
      "int_v_adv trial 5 precision: 0.46808510638297873\n",
      "int_v_adv trial 5 recall: 0.9361702127659575\n",
      "int_v_adv trial 6 accuracy: 0.7052631578947368\n",
      "int_v_adv trial 6 precision: 0.5473684210526316\n",
      "int_v_adv trial 6 recall: 0.8\n",
      "ele_v_adv trial 5 accuracy: 0.8776595744680851\n",
      "ele_v_adv trial 5 precision: 0.7872340425531915\n",
      "ele_v_adv trial 5 recall: 0.961038961038961\n",
      "ele_v_adv trial 6 accuracy: 0.8736842105263158\n",
      "ele_v_adv trial 6 precision: 0.8210526315789474\n",
      "ele_v_adv trial 6 recall: 0.9176470588235294\n"
     ]
    },
    {
     "name": "stderr",
     "output_type": "stream",
     "text": [
      "C:\\Users\\mande\\anaconda3\\lib\\site-packages\\sklearn\\utils\\validation.py:993: DataConversionWarning: A column-vector y was passed when a 1d array was expected. Please change the shape of y to (n_samples, ), for example using ravel().\n",
      "  y = column_or_1d(y, warn=True)\n",
      "C:\\Users\\mande\\anaconda3\\lib\\site-packages\\sklearn\\utils\\validation.py:993: DataConversionWarning: A column-vector y was passed when a 1d array was expected. Please change the shape of y to (n_samples, ), for example using ravel().\n",
      "  y = column_or_1d(y, warn=True)\n",
      "C:\\Users\\mande\\anaconda3\\lib\\site-packages\\sklearn\\utils\\validation.py:993: DataConversionWarning: A column-vector y was passed when a 1d array was expected. Please change the shape of y to (n_samples, ), for example using ravel().\n",
      "  y = column_or_1d(y, warn=True)\n",
      "C:\\Users\\mande\\anaconda3\\lib\\site-packages\\sklearn\\utils\\validation.py:993: DataConversionWarning: A column-vector y was passed when a 1d array was expected. Please change the shape of y to (n_samples, ), for example using ravel().\n",
      "  y = column_or_1d(y, warn=True)\n",
      "C:\\Users\\mande\\anaconda3\\lib\\site-packages\\sklearn\\utils\\validation.py:993: DataConversionWarning: A column-vector y was passed when a 1d array was expected. Please change the shape of y to (n_samples, ), for example using ravel().\n",
      "  y = column_or_1d(y, warn=True)\n",
      "C:\\Users\\mande\\anaconda3\\lib\\site-packages\\sklearn\\utils\\validation.py:993: DataConversionWarning: A column-vector y was passed when a 1d array was expected. Please change the shape of y to (n_samples, ), for example using ravel().\n",
      "  y = column_or_1d(y, warn=True)\n"
     ]
    }
   ],
   "source": [
    "# Trial 5 - elementary vs intermediate\n",
    "# word count only\n",
    "\n",
    "train_x = np.concatenate((trial_1_train_ele, trial_1_train_int)) \n",
    "test_x = np.concatenate((trial_1_test_ele, trial_1_test_int))\n",
    "\n",
    "train_y = np.append(np.zeros((len(trial_1_train_ele),1)), np.ones((len(trial_1_train_int),1)), axis=0)\n",
    "test_y = np.append(np.zeros((len(trial_1_test_ele),1)), np.ones((len(trial_1_test_int),1)), axis=0)\n",
    "\n",
    "X = train_x\n",
    "y = train_y\n",
    "clf = svm.SVC()\n",
    "clf.fit(X, y)\n",
    "\n",
    "ele_v_int_trial_5_precision, ele_v_int_trial_5_recall, ele_v_int_trial_5_accuracy = evaluate(test_x, test_y)\n",
    "\n",
    "# Trial 6 - elementary vs. intermediate\n",
    "# word count only\n",
    "\n",
    "\n",
    "train_x = np.concatenate((trial_2_train_ele, trial_2_train_int)) \n",
    "test_x = np.concatenate((trial_2_test_ele, trial_2_test_int))\n",
    "\n",
    "train_y = np.append(np.zeros((len(trial_2_train_ele),1)), np.ones((len(trial_2_train_int),1)), axis=0)\n",
    "test_y = np.append(np.zeros((len(trial_2_test_ele),1)), np.ones((len(trial_2_test_int),1)), axis=0)\n",
    "\n",
    "X = train_x\n",
    "y = train_y\n",
    "clf = svm.SVC()\n",
    "clf.fit(X, y)\n",
    "\n",
    "ele_v_int_trial_6_precision, ele_v_int_trial_6_recall, ele_v_int_trial_6_accuracy = evaluate(test_x, test_y)\n",
    "\n",
    "\n",
    "# Trial 5 - intermediate v advanced\n",
    "# word count only\n",
    "\n",
    "\n",
    "train_x = np.concatenate((trial_1_train_int, trial_1_train_adv)) \n",
    "test_x = np.concatenate((trial_1_test_int, trial_1_test_adv))\n",
    "\n",
    "train_y = np.append(np.zeros((len(trial_1_train_int),1)), np.ones((len(trial_1_train_adv),1)), axis=0)\n",
    "test_y = np.append(np.zeros((len(trial_1_test_int),1)), np.ones((len(trial_1_test_adv),1)), axis=0)\n",
    "\n",
    "X = train_x\n",
    "y = train_y\n",
    "clf = svm.SVC()\n",
    "clf.fit(X, y)\n",
    "\n",
    "int_v_adv_trial_5_precision, int_v_adv_trial_5_recall, int_v_adv_trial_5_accuracy = evaluate(test_x, test_y)\n",
    "\n",
    "# Trial 6 - intermediate v advanced\n",
    "# word count only\n",
    "\n",
    "\n",
    "train_x = np.concatenate((trial_2_train_int, trial_2_train_adv)) \n",
    "test_x = np.concatenate((trial_2_test_int, trial_2_test_adv))\n",
    "\n",
    "train_y = np.append(np.zeros((len(trial_2_train_int),1)), np.ones((len(trial_2_train_adv),1)), axis=0)\n",
    "test_y = np.append(np.zeros((len(trial_2_test_int),1)), np.ones((len(trial_2_test_adv),1)), axis=0)\n",
    "\n",
    "X = train_x\n",
    "y = train_y\n",
    "clf = svm.SVC()\n",
    "clf.fit(X, y)\n",
    "\n",
    "int_v_adv_trial_6_precision, int_v_adv_trial_6_recall, int_v_adv_trial_6_accuracy = evaluate(test_x, test_y)\n",
    "\n",
    "# Trial 5 - elementary v advanced\n",
    "# word count only\n",
    "\n",
    "\n",
    "train_x = np.concatenate((trial_1_train_ele, trial_1_train_adv)) \n",
    "test_x = np.concatenate((trial_1_test_ele, trial_1_test_adv))\n",
    "\n",
    "train_y = np.append(np.zeros((len(trial_1_train_ele),1)), np.ones((len(trial_1_train_adv),1)), axis=0)\n",
    "test_y = np.append(np.zeros((len(trial_1_test_ele),1)), np.ones((len(trial_1_test_adv),1)), axis=0)\n",
    "\n",
    "X = train_x\n",
    "y = train_y\n",
    "clf = svm.SVC()\n",
    "clf.fit(X, y)\n",
    "\n",
    "ele_v_adv_trial_5_precision, ele_v_adv_trial_5_recall, ele_v_adv_trial_5_accuracy = evaluate(test_x, test_y)\n",
    "\n",
    "# Trial 6 - elementary v advanced\n",
    "# word count only\n",
    "\n",
    "\n",
    "train_x = np.concatenate((trial_2_train_ele, trial_2_train_adv)) \n",
    "test_x = np.concatenate((trial_2_test_ele, trial_2_test_adv))\n",
    "\n",
    "train_y = np.append(np.zeros((len(trial_2_train_ele),1)), np.ones((len(trial_2_train_adv),1)), axis=0)\n",
    "test_y = np.append(np.zeros((len(trial_2_test_ele),1)), np.ones((len(trial_2_test_adv),1)), axis=0)\n",
    "\n",
    "X = train_x\n",
    "y = train_y\n",
    "clf = svm.SVC()\n",
    "clf.fit(X, y)\n",
    "\n",
    "ele_v_adv_trial_6_precision, ele_v_adv_trial_6_recall, ele_v_adv_trial_6_accuracy = evaluate(test_x, test_y)\n",
    "\n",
    "print(\"ele_v_int trial 5 accuracy:\",ele_v_int_trial_5_accuracy)\n",
    "print(\"ele_v_int trial 5 precision:\",ele_v_int_trial_5_precision)\n",
    "print(\"ele_v_int trial 5 recall:\",ele_v_int_trial_5_recall)\n",
    "print(\"ele_v_int trial 6 accuracy:\",ele_v_int_trial_6_accuracy)\n",
    "print(\"ele_v_int trial 6 precision:\",ele_v_int_trial_6_precision)\n",
    "print(\"ele_v_int trial 6 recall:\",ele_v_int_trial_6_recall)\n",
    "print(\"int_v_adv trial 5 accuracy:\",int_v_adv_trial_5_accuracy)\n",
    "print(\"int_v_adv trial 5 precision:\",int_v_adv_trial_5_precision)\n",
    "print(\"int_v_adv trial 5 recall:\",int_v_adv_trial_5_recall)\n",
    "print(\"int_v_adv trial 6 accuracy:\",int_v_adv_trial_6_accuracy)\n",
    "print(\"int_v_adv trial 6 precision:\",int_v_adv_trial_6_precision)\n",
    "print(\"int_v_adv trial 6 recall:\",int_v_adv_trial_6_recall)\n",
    "print(\"ele_v_adv trial 5 accuracy:\",ele_v_adv_trial_5_accuracy)\n",
    "print(\"ele_v_adv trial 5 precision:\",ele_v_adv_trial_5_precision)\n",
    "print(\"ele_v_adv trial 5 recall:\",ele_v_adv_trial_5_recall)\n",
    "print(\"ele_v_adv trial 6 accuracy:\",ele_v_adv_trial_6_accuracy)\n",
    "print(\"ele_v_adv trial 6 precision:\",ele_v_adv_trial_6_precision)\n",
    "print(\"ele_v_adv trial 6 recall:\",ele_v_adv_trial_6_recall)"
   ]
  },
  {
   "cell_type": "code",
   "execution_count": 46,
   "id": "b85874a1",
   "metadata": {},
   "outputs": [],
   "source": [
    "# pseudo code for what I want to do with the vocab extractor\n",
    "# read the csv\n",
    "# build a set of the words in sentence 1, elementary\n",
    "# add the words of sentence 1, intermediate\n",
    "# build a set of the words in sentence 1, advanced\n",
    "# subtract (ele+int) from adv\n",
    "\n",
    "# test_df = pd.read_csv('ose_csv/Amazon.csv', encoding_errors='ignore')\n",
    "\n",
    "# test_df.head()"
   ]
  }
 ],
 "metadata": {
  "kernelspec": {
   "display_name": "Python 3 (ipykernel)",
   "language": "python",
   "name": "python3"
  },
  "language_info": {
   "codemirror_mode": {
    "name": "ipython",
    "version": 3
   },
   "file_extension": ".py",
   "mimetype": "text/x-python",
   "name": "python",
   "nbconvert_exporter": "python",
   "pygments_lexer": "ipython3",
   "version": "3.9.12"
  }
 },
 "nbformat": 4,
 "nbformat_minor": 5
}
